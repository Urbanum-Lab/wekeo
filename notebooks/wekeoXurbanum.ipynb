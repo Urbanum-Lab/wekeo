{
 "cells": [
  {
   "cell_type": "raw",
   "source": [
    " #%% md\n",
    "# Do wealthier neighborhoods enjoy greener and calmer environments?"
   ],
   "metadata": {
    "collapsed": false,
    "pycharm": {
     "name": ""
    }
   }
  },
  {
   "cell_type": "markdown",
   "source": [
    "## Data used\n",
    "### [External data] Square meter prices in Budapest\n",
    "Data was collected on 12th July 2022. The scraper is freely available\n",
    "on [github](https://github.com/Urbanum-Lab/budapest_property_price_scraper).\n",
    "```data/aggregated```\n",
    "### WEkEO datasets\n"
   ],
   "metadata": {
    "collapsed": false,
    "pycharm": {
     "name": "#%% md\n"
    }
   }
  },
  {
   "cell_type": "code",
   "execution_count": null,
   "outputs": [],
   "source": [
    "import json\n",
    "\n",
    "from hda import Client\n",
    "\n",
    "print(\"adsasdasdas\"*100)\n",
    "with open(\"data/jsons/temperature.json\") as infile:\n",
    "    query = json.load(infile)\n",
    "print(query)\n",
    "# c = Client(debug=True)\n"
   ],
   "metadata": {
    "collapsed": false,
    "pycharm": {
     "name": "#%%\n"
    }
   }
  }
 ],
 "metadata": {
  "kernelspec": {
   "display_name": "Python 3",
   "language": "python",
   "name": "python3"
  },
  "language_info": {
   "codemirror_mode": {
    "name": "ipython",
    "version": 2
   },
   "file_extension": ".py",
   "mimetype": "text/x-python",
   "name": "python",
   "nbconvert_exporter": "python",
   "pygments_lexer": "ipython2",
   "version": "2.7.6"
  }
 },
 "nbformat": 4,
 "nbformat_minor": 0
}